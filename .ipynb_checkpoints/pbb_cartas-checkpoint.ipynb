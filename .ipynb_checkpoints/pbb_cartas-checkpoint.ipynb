{
 "cells": [
  {
   "cell_type": "code",
   "execution_count": 3,
   "metadata": {},
   "outputs": [],
   "source": [
    "import pandas as pd\n",
    "import os"
   ]
  },
  {
   "cell_type": "code",
   "execution_count": 90,
   "metadata": {},
   "outputs": [],
   "source": [
    "\n",
    "def read_documents(directory):\n",
    "    # Lee y preprocesa todos los documentos\n",
    "    # Input: directory: string del nombre en donde se encuentran almacenados los docs\n",
    "    all_letters = {\"spa\":[],\"pbb\":[]}\n",
    "\n",
    "    for filename in os.listdir(directory):\n",
    "        # Se extrae el id del documento\n",
    "        doc_id = filename.split(\".\")[0]\n",
    "        with open(directory + filename,'r')as file:\n",
    "                lines = file.read().splitlines()\n",
    "                for line in lines:\n",
    "                    if \"spanish\" in doc_id:\n",
    "\n",
    "                        all_letters[\"spa\"].append(line)\n",
    "        \n",
    "                    else:\n",
    "\n",
    "                        all_letters[\"pbb\"].append(line)\n",
    "\n",
    "    spa_pbb_letters_dataset = pd.DataFrame.from_dict(all_letters)\n",
    "    \n",
    "    return spa_pbb_letters_dataset"
   ]
  },
  {
   "cell_type": "code",
   "execution_count": 91,
   "metadata": {},
   "outputs": [
    {
     "data": {
      "text/html": [
       "<div>\n",
       "<style scoped>\n",
       "    .dataframe tbody tr th:only-of-type {\n",
       "        vertical-align: middle;\n",
       "    }\n",
       "\n",
       "    .dataframe tbody tr th {\n",
       "        vertical-align: top;\n",
       "    }\n",
       "\n",
       "    .dataframe thead th {\n",
       "        text-align: right;\n",
       "    }\n",
       "</style>\n",
       "<table border=\"1\" class=\"dataframe\">\n",
       "  <thead>\n",
       "    <tr style=\"text-align: right;\">\n",
       "      <th></th>\n",
       "      <th>spa</th>\n",
       "      <th>pbb</th>\n",
       "    </tr>\n",
       "  </thead>\n",
       "  <tbody>\n",
       "    <tr>\n",
       "      <th>0</th>\n",
       "      <td>ANTES DE EMPEZAR</td>\n",
       "      <td>WEC'TE PTA'S'N'I</td>\n",
       "    </tr>\n",
       "    <tr>\n",
       "      <th>1</th>\n",
       "      <td>Nuestra Nación se llama Colombia. Las personas...</td>\n",
       "      <td>Kwe's' C'Hab wala kiwe' Kulubya yaase'. Naa ki...</td>\n",
       "    </tr>\n",
       "    <tr>\n",
       "      <th>2</th>\n",
       "      <td>Esta obra es un trabajo colectivo, el cual se ...</td>\n",
       "      <td>Naa mhiyu' Musukwete kapiya'sawe's'yakh pahzus...</td>\n",
       "    </tr>\n",
       "    <tr>\n",
       "      <th>3</th>\n",
       "      <td>Lo aquí escrito del libro mayor está repartido...</td>\n",
       "      <td>Ec Ne'hwe's'tewe's'a's ayte f'i'n'i tekhasu t'...</td>\n",
       "    </tr>\n",
       "    <tr>\n",
       "      <th>4</th>\n",
       "      <td>Esperamos que este trabajo sea para todos los ...</td>\n",
       "      <td>Na'sa' h'ukaysa kaselpi' itháasu'tha'w.</td>\n",
       "    </tr>\n",
       "  </tbody>\n",
       "</table>\n",
       "</div>"
      ],
      "text/plain": [
       "                                                 spa  \\\n",
       "0                                   ANTES DE EMPEZAR   \n",
       "1  Nuestra Nación se llama Colombia. Las personas...   \n",
       "2  Esta obra es un trabajo colectivo, el cual se ...   \n",
       "3  Lo aquí escrito del libro mayor está repartido...   \n",
       "4  Esperamos que este trabajo sea para todos los ...   \n",
       "\n",
       "                                                 pbb  \n",
       "0                                   WEC'TE PTA'S'N'I  \n",
       "1  Kwe's' C'Hab wala kiwe' Kulubya yaase'. Naa ki...  \n",
       "2  Naa mhiyu' Musukwete kapiya'sawe's'yakh pahzus...  \n",
       "3  Ec Ne'hwe's'tewe's'a's ayte f'i'n'i tekhasu t'...  \n",
       "4            Na'sa' h'ukaysa kaselpi' itháasu'tha'w.  "
      ]
     },
     "execution_count": 91,
     "metadata": {},
     "output_type": "execute_result"
    }
   ],
   "source": [
    "direct = \"cartas/\"\n",
    "spa_pbb_letters_dataset = read_documents(direct)\n",
    "spa_pbb_letters_dataset.head()"
   ]
  },
  {
   "cell_type": "code",
   "execution_count": 92,
   "metadata": {},
   "outputs": [],
   "source": [
    "spa_pbb_letters_dataset.to_csv('spa_pbb_letters_dataset.csv', index=False, sep=\"|\")"
   ]
  },
  {
   "cell_type": "code",
   "execution_count": 94,
   "metadata": {},
   "outputs": [],
   "source": [
    "spa_pbb_no_letters_dataset  = pd.read_csv('spa_pbb_no_letters_dataset.csv', sep = '|')"
   ]
  },
  {
   "cell_type": "code",
   "execution_count": 95,
   "metadata": {},
   "outputs": [],
   "source": [
    "spa_pbb_full_dataset = pd.concat([spa_pbb_letters_dataset,spa_pbb_no_letters_dataset],ignore_index=True)\n"
   ]
  },
  {
   "cell_type": "code",
   "execution_count": 12,
   "metadata": {},
   "outputs": [],
   "source": [
    "dataset_1 = pd.read_csv('spa_pbb_full_dataset.csv', sep = '|')\n"
   ]
  },
  {
   "cell_type": "code",
   "execution_count": 19,
   "metadata": {},
   "outputs": [
    {
     "data": {
      "text/plain": [
       "53"
      ]
     },
     "execution_count": 19,
     "metadata": {},
     "output_type": "execute_result"
    }
   ],
   "source": [
    "word_counts = dataset_1['spa'].apply(lambda x: len(x.split()))\n",
    "\n",
    "len(dataset_1['spa'][3809:])"
   ]
  }
 ],
 "metadata": {
  "kernelspec": {
   "display_name": "Python 3",
   "language": "python",
   "name": "python3"
  },
  "language_info": {
   "codemirror_mode": {
    "name": "ipython",
    "version": 3
   },
   "file_extension": ".py",
   "mimetype": "text/x-python",
   "name": "python",
   "nbconvert_exporter": "python",
   "pygments_lexer": "ipython3",
   "version": "3.11.6"
  }
 },
 "nbformat": 4,
 "nbformat_minor": 2
}

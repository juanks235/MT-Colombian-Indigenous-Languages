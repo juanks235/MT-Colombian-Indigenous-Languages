{
 "cells": [
  {
   "cell_type": "code",
   "execution_count": 2,
   "metadata": {},
   "outputs": [],
   "source": [
    "import pandas as pd\n",
    "import os\n",
    "import re"
   ]
  },
  {
   "cell_type": "code",
   "execution_count": 90,
   "metadata": {},
   "outputs": [],
   "source": [
    "\n",
    "def read_documents(directory):\n",
    "    # Lee y preprocesa todos los documentos\n",
    "    # Input: directory: string del nombre en donde se encuentran almacenados los docs\n",
    "    all_letters = {\"spa\":[],\"pbb\":[]}\n",
    "\n",
    "    for filename in os.listdir(directory):\n",
    "        # Se extrae el id del documento\n",
    "        doc_id = filename.split(\".\")[0]\n",
    "        with open(directory + filename,'r')as file:\n",
    "                lines = file.read().splitlines()\n",
    "                for line in lines:\n",
    "                    if \"spanish\" in doc_id:\n",
    "\n",
    "                        all_letters[\"spa\"].append(line)\n",
    "        \n",
    "                    else:\n",
    "\n",
    "                        all_letters[\"pbb\"].append(line)\n",
    "\n",
    "    spa_pbb_letters_dataset = pd.DataFrame.from_dict(all_letters)\n",
    "    \n",
    "    return spa_pbb_letters_dataset"
   ]
  },
  {
   "cell_type": "code",
   "execution_count": 91,
   "metadata": {},
   "outputs": [
    {
     "data": {
      "text/html": [
       "<div>\n",
       "<style scoped>\n",
       "    .dataframe tbody tr th:only-of-type {\n",
       "        vertical-align: middle;\n",
       "    }\n",
       "\n",
       "    .dataframe tbody tr th {\n",
       "        vertical-align: top;\n",
       "    }\n",
       "\n",
       "    .dataframe thead th {\n",
       "        text-align: right;\n",
       "    }\n",
       "</style>\n",
       "<table border=\"1\" class=\"dataframe\">\n",
       "  <thead>\n",
       "    <tr style=\"text-align: right;\">\n",
       "      <th></th>\n",
       "      <th>spa</th>\n",
       "      <th>pbb</th>\n",
       "    </tr>\n",
       "  </thead>\n",
       "  <tbody>\n",
       "    <tr>\n",
       "      <th>0</th>\n",
       "      <td>ANTES DE EMPEZAR</td>\n",
       "      <td>WEC'TE PTA'S'N'I</td>\n",
       "    </tr>\n",
       "    <tr>\n",
       "      <th>1</th>\n",
       "      <td>Nuestra Nación se llama Colombia. Las personas...</td>\n",
       "      <td>Kwe's' C'Hab wala kiwe' Kulubya yaase'. Naa ki...</td>\n",
       "    </tr>\n",
       "    <tr>\n",
       "      <th>2</th>\n",
       "      <td>Esta obra es un trabajo colectivo, el cual se ...</td>\n",
       "      <td>Naa mhiyu' Musukwete kapiya'sawe's'yakh pahzus...</td>\n",
       "    </tr>\n",
       "    <tr>\n",
       "      <th>3</th>\n",
       "      <td>Lo aquí escrito del libro mayor está repartido...</td>\n",
       "      <td>Ec Ne'hwe's'tewe's'a's ayte f'i'n'i tekhasu t'...</td>\n",
       "    </tr>\n",
       "    <tr>\n",
       "      <th>4</th>\n",
       "      <td>Esperamos que este trabajo sea para todos los ...</td>\n",
       "      <td>Na'sa' h'ukaysa kaselpi' itháasu'tha'w.</td>\n",
       "    </tr>\n",
       "  </tbody>\n",
       "</table>\n",
       "</div>"
      ],
      "text/plain": [
       "                                                 spa  \\\n",
       "0                                   ANTES DE EMPEZAR   \n",
       "1  Nuestra Nación se llama Colombia. Las personas...   \n",
       "2  Esta obra es un trabajo colectivo, el cual se ...   \n",
       "3  Lo aquí escrito del libro mayor está repartido...   \n",
       "4  Esperamos que este trabajo sea para todos los ...   \n",
       "\n",
       "                                                 pbb  \n",
       "0                                   WEC'TE PTA'S'N'I  \n",
       "1  Kwe's' C'Hab wala kiwe' Kulubya yaase'. Naa ki...  \n",
       "2  Naa mhiyu' Musukwete kapiya'sawe's'yakh pahzus...  \n",
       "3  Ec Ne'hwe's'tewe's'a's ayte f'i'n'i tekhasu t'...  \n",
       "4            Na'sa' h'ukaysa kaselpi' itháasu'tha'w.  "
      ]
     },
     "execution_count": 91,
     "metadata": {},
     "output_type": "execute_result"
    }
   ],
   "source": [
    "direct = \"cartas/\"\n",
    "spa_pbb_letters_dataset = read_documents(direct)\n",
    "spa_pbb_letters_dataset.head()"
   ]
  },
  {
   "cell_type": "code",
   "execution_count": 92,
   "metadata": {},
   "outputs": [],
   "source": [
    "spa_pbb_letters_dataset.to_csv('spa_pbb_letters_dataset.csv', index=False, sep=\"|\")"
   ]
  },
  {
   "cell_type": "code",
   "execution_count": 53,
   "metadata": {},
   "outputs": [],
   "source": [
    "\n",
    "def read_articles_spa(directory):\n",
    "    # Lee y preprocesa todos los documentos\n",
    "    # Input: directory: string del nombre en donde se encuentran almacenados los docs\n",
    "    all_articles_spa = \"\"\n",
    "\n",
    "    for filename in os.listdir(directory):\n",
    "        # Se extrae el id del documento\n",
    "        doc_id = filename.split(\"_\")\n",
    "        if \"spanish\" in doc_id[1]:\n",
    "            with open(directory + filename,'r')as file:\n",
    "                    all_articles_spa += file.read()\n",
    "\n",
    "    articulos_spa = all_articles_spa.split(\"Artículo \")\n",
    "\n",
    "    # Eliminar el primer elemento vacío\n",
    "    articulos_spa = articulos_spa[1:]\n",
    "\n",
    "    # Filtrar los artículos requeridos\n",
    "    articulos_requeridos = [\"Artículo \" + articulo for articulo in articulos_spa if articulo.startswith(\"1.\") or \n",
    "                            articulo.startswith(\"2.\") or articulo.startswith(\"3.\") or \n",
    "                            articulo.startswith(\"11.\") or articulo.startswith(\"12.\") or articulo.startswith(\"17.\") or \n",
    "                            articulo.startswith(\"18.\") or articulo.startswith(\"19.\") or \n",
    "                            articulo.startswith(\"24.\") or articulo.startswith(\"27.\") or \n",
    "                            articulo.startswith(\"30.\") or articulo.startswith(\"43.\") or \n",
    "                            articulo.startswith(\"44.\") or articulo.startswith(\"7.\") or\n",
    "                             articulo.startswith(\"8.\") or articulo.startswith(\"10.\") or \n",
    "                            articulo.startswith(\"40.\") or \n",
    "                            articulo.startswith(\"246.\") or articulo.startswith(\"287.\") or \n",
    "                            articulo.startswith(\"329.\") or articulo.startswith(\"330.\")                            \n",
    "                            ]   \n",
    "\n",
    "    return articulos_requeridos"
   ]
  },
  {
   "cell_type": "code",
   "execution_count": 54,
   "metadata": {},
   "outputs": [],
   "source": [
    "\n",
    "def read_articles_pbb(directory):\n",
    "    # Lee y preprocesa todos los documentos\n",
    "    # Input: directory: string del nombre en donde se encuentran almacenados los docs\n",
    "    all_articles_pbb = \"\"\n",
    "\n",
    "    for filename in os.listdir(directory):\n",
    "        # Se extrae el id del documento\n",
    "        doc_id = filename.split(\"_\")\n",
    "        if \"nasa\" in doc_id[1]:\n",
    "            with open(directory + filename,'r')as file:\n",
    "                    all_articles_pbb += file.read()\n",
    "\n",
    "    articulos_pbb = all_articles_pbb.split(\"F'i'n'i pe'la \")\n",
    "\n",
    "    # Eliminar el primer elemento vacío\n",
    "    articulos_pbb = articulos_pbb[1:]\n",
    "\n",
    "    # Filtrar los artículos requeridos\n",
    "    articulos_requeridos = [\"F'i'n'i pe'la \" + articulo for articulo in articulos_pbb if articulo.startswith(\"1.\") or \n",
    "                            articulo.startswith(\"2.\") or articulo.startswith(\"3.\") or \n",
    "                            articulo.startswith(\"11.\") or articulo.startswith(\"12.\") or articulo.startswith(\"17.\") or \n",
    "                            articulo.startswith(\"18.\") or articulo.startswith(\"19.\") or \n",
    "                            articulo.startswith(\"24.\") or articulo.startswith(\"27.\") or \n",
    "                            articulo.startswith(\"30.\") or articulo.startswith(\"43.\") or \n",
    "                            articulo.startswith(\"44.\") or articulo.startswith(\"7.\") or\n",
    "                             articulo.startswith(\"8.\") or articulo.startswith(\"10.\") or \n",
    "                            articulo.startswith(\"40.\") or \n",
    "                            articulo.startswith(\"246.\") or articulo.startswith(\"287.\") or \n",
    "                            articulo.startswith(\"329.\") or articulo.startswith(\"330.\")                            \n",
    "                            ]   \n",
    "\n",
    "    return articulos_requeridos"
   ]
  },
  {
   "cell_type": "code",
   "execution_count": 57,
   "metadata": {},
   "outputs": [],
   "source": [
    "def articles_df(art_spa,art_pbb):\n",
    "    df = pd.DataFrame({\n",
    "    'spa': art_spa,\n",
    "    'pbb': art_pbb\n",
    "    })\n",
    "    return df\n",
    "    "
   ]
  },
  {
   "cell_type": "code",
   "execution_count": 61,
   "metadata": {},
   "outputs": [
    {
     "data": {
      "text/html": [
       "<div>\n",
       "<style scoped>\n",
       "    .dataframe tbody tr th:only-of-type {\n",
       "        vertical-align: middle;\n",
       "    }\n",
       "\n",
       "    .dataframe tbody tr th {\n",
       "        vertical-align: top;\n",
       "    }\n",
       "\n",
       "    .dataframe thead th {\n",
       "        text-align: right;\n",
       "    }\n",
       "</style>\n",
       "<table border=\"1\" class=\"dataframe\">\n",
       "  <thead>\n",
       "    <tr style=\"text-align: right;\">\n",
       "      <th></th>\n",
       "      <th>spa</th>\n",
       "      <th>pbb</th>\n",
       "    </tr>\n",
       "  </thead>\n",
       "  <tbody>\n",
       "    <tr>\n",
       "      <th>0</th>\n",
       "      <td>Artículo 1. Colombia es un Estado social de de...</td>\n",
       "      <td>F'i'n'i pe'la 1. Kulubyate c'hab wala kiwe' 1t...</td>\n",
       "    </tr>\n",
       "    <tr>\n",
       "      <th>1</th>\n",
       "      <td>Artículo 2. Son fines esenciales del Estado: s...</td>\n",
       "      <td>F'i'n'i pe'la 2. Naa c'hab wala kiwete npicthé...</td>\n",
       "    </tr>\n",
       "    <tr>\n",
       "      <th>2</th>\n",
       "      <td>Artículo 3. La soberanía reside exclusivamente...</td>\n",
       "      <td>F'i'n'i pe'la 3. Nasa kuhsayu na'we c'ab wala ...</td>\n",
       "    </tr>\n",
       "    <tr>\n",
       "      <th>3</th>\n",
       "      <td>Artículo 11. El derecho a la vida es inviolabl...</td>\n",
       "      <td>F'i'n'i pe'la 11. Kwe's'a' 1t'i u'hu hi'ptha'w...</td>\n",
       "    </tr>\n",
       "    <tr>\n",
       "      <th>4</th>\n",
       "      <td>Artículo 12. Nadie será sometido a desaparició...</td>\n",
       "      <td>F'i'n'i pe'la 12. Kimyuhpa nasa nwe's'a's huun...</td>\n",
       "    </tr>\n",
       "  </tbody>\n",
       "</table>\n",
       "</div>"
      ],
      "text/plain": [
       "                                                 spa  \\\n",
       "0  Artículo 1. Colombia es un Estado social de de...   \n",
       "1  Artículo 2. Son fines esenciales del Estado: s...   \n",
       "2  Artículo 3. La soberanía reside exclusivamente...   \n",
       "3  Artículo 11. El derecho a la vida es inviolabl...   \n",
       "4  Artículo 12. Nadie será sometido a desaparició...   \n",
       "\n",
       "                                                 pbb  \n",
       "0  F'i'n'i pe'la 1. Kulubyate c'hab wala kiwe' 1t...  \n",
       "1  F'i'n'i pe'la 2. Naa c'hab wala kiwete npicthé...  \n",
       "2  F'i'n'i pe'la 3. Nasa kuhsayu na'we c'ab wala ...  \n",
       "3  F'i'n'i pe'la 11. Kwe's'a' 1t'i u'hu hi'ptha'w...  \n",
       "4  F'i'n'i pe'la 12. Kimyuhpa nasa nwe's'a's huun...  "
      ]
     },
     "execution_count": 61,
     "metadata": {},
     "output_type": "execute_result"
    }
   ],
   "source": [
    "direct = \"articles/\"\n",
    "art_spa = read_articles_spa(direct)\n",
    "art_pbb = read_articles_pbb(direct)\n",
    "spa_pbb_articles_dataset = articles_df(art_spa, art_pbb)\n",
    "spa_pbb_articles_dataset.head()"
   ]
  },
  {
   "cell_type": "code",
   "execution_count": 59,
   "metadata": {},
   "outputs": [],
   "source": [
    "spa_pbb_articles_dataset.to_csv('spa_pbb_articles_dataset.csv', index=False, sep=\"|\")"
   ]
  },
  {
   "cell_type": "code",
   "execution_count": 95,
   "metadata": {},
   "outputs": [],
   "source": [
    "spa_pbb_constitucion_dataset = pd.concat([spa_pbb_letters_dataset,spa_pbb_articles_dataset],ignore_index=True)"
   ]
  }
 ],
 "metadata": {
  "kernelspec": {
   "display_name": "Python 3",
   "language": "python",
   "name": "python3"
  },
  "language_info": {
   "codemirror_mode": {
    "name": "ipython",
    "version": 3
   },
   "file_extension": ".py",
   "mimetype": "text/x-python",
   "name": "python",
   "nbconvert_exporter": "python",
   "pygments_lexer": "ipython3",
   "version": "3.11.6"
  }
 },
 "nbformat": 4,
 "nbformat_minor": 2
}
